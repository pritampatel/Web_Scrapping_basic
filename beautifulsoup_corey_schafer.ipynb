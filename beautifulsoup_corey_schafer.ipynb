{
 "cells": [
  {
   "cell_type": "code",
   "execution_count": 2,
   "id": "intended-clarity",
   "metadata": {},
   "outputs": [
    {
     "name": "stdout",
     "output_type": "stream",
     "text": [
      "Requirement already satisfied: lxml in c:\\users\\pritam\\anaconda3\\lib\\site-packages (4.6.1)\n",
      "Requirement already satisfied: beautifulsoup4 in c:\\users\\pritam\\anaconda3\\lib\\site-packages (4.9.3)\n",
      "Requirement already satisfied: soupsieve>1.2; python_version >= \"3.0\" in c:\\users\\pritam\\appdata\\roaming\\python\\python38\\site-packages (from beautifulsoup4) (2.1)\n"
     ]
    }
   ],
   "source": [
    "!pip install lxml\n",
    "!pip install beautifulsoup4"
   ]
  },
  {
   "cell_type": "code",
   "execution_count": 3,
   "id": "curious-reserve",
   "metadata": {},
   "outputs": [],
   "source": [
    "from bs4 import BeautifulSoup\n",
    "import requests"
   ]
  },
  {
   "cell_type": "code",
   "execution_count": 4,
   "id": "developed-theta",
   "metadata": {},
   "outputs": [
    {
     "name": "stderr",
     "output_type": "stream",
     "text": [
      "'wget' is not recognized as an internal or external command,\n",
      "operable program or batch file.\n"
     ]
    }
   ],
   "source": [
    "!wget https://github.com/CoreyMSchafer/code_snippets/blob/master/BeautifulSoup/simple.html"
   ]
  },
  {
   "cell_type": "code",
   "execution_count": 5,
   "id": "possible-partnership",
   "metadata": {},
   "outputs": [
    {
     "ename": "FileNotFoundError",
     "evalue": "[Errno 2] No such file or directory: 'simple.html'",
     "output_type": "error",
     "traceback": [
      "\u001b[1;31m---------------------------------------------------------------------------\u001b[0m",
      "\u001b[1;31mFileNotFoundError\u001b[0m                         Traceback (most recent call last)",
      "\u001b[1;32m<ipython-input-5-b58b62c0621a>\u001b[0m in \u001b[0;36m<module>\u001b[1;34m\u001b[0m\n\u001b[1;32m----> 1\u001b[1;33m \u001b[1;32mwith\u001b[0m \u001b[0mopen\u001b[0m\u001b[1;33m(\u001b[0m\u001b[1;34m'simple.html'\u001b[0m\u001b[1;33m)\u001b[0m \u001b[1;32mas\u001b[0m \u001b[0mhtml_file\u001b[0m\u001b[1;33m:\u001b[0m\u001b[1;33m\u001b[0m\u001b[1;33m\u001b[0m\u001b[0m\n\u001b[0m\u001b[0;32m      2\u001b[0m     \u001b[0msoup\u001b[0m\u001b[1;33m=\u001b[0m\u001b[0mBeautifulSoup\u001b[0m\u001b[1;33m(\u001b[0m\u001b[0mhtml_file\u001b[0m\u001b[1;33m,\u001b[0m\u001b[1;34m'lxml'\u001b[0m\u001b[1;33m)\u001b[0m\u001b[1;33m\u001b[0m\u001b[1;33m\u001b[0m\u001b[0m\n",
      "\u001b[1;31mFileNotFoundError\u001b[0m: [Errno 2] No such file or directory: 'simple.html'"
     ]
    }
   ],
   "source": [
    "with open('simple.html') as html_file:\n",
    "    soup=BeautifulSoup(html_file,'lxml')"
   ]
  },
  {
   "cell_type": "code",
   "execution_count": null,
   "id": "continental-frank",
   "metadata": {},
   "outputs": [],
   "source": [
    "match=soup.title.text\n",
    "print(match)"
   ]
  },
  {
   "cell_type": "code",
   "execution_count": null,
   "id": "configured-denmark",
   "metadata": {},
   "outputs": [],
   "source": [
    "match=soup.find('div')\n",
    "print(match)"
   ]
  },
  {
   "cell_type": "code",
   "execution_count": null,
   "id": "vanilla-escape",
   "metadata": {},
   "outputs": [],
   "source": [
    "match=soup.find('div',class_='footer')\n",
    "print(match)"
   ]
  },
  {
   "cell_type": "code",
   "execution_count": null,
   "id": "medieval-strength",
   "metadata": {},
   "outputs": [],
   "source": [
    "article=soup.find('div',class_='article')\n",
    "print(article"
   ]
  },
  {
   "cell_type": "code",
   "execution_count": null,
   "id": "marine-fountain",
   "metadata": {},
   "outputs": [],
   "source": [
    "headline=article.h2.a.text\n",
    "print(headline)\n",
    "summary= article.p.text\n",
    "print(summary)"
   ]
  },
  {
   "cell_type": "code",
   "execution_count": null,
   "id": "junior-criterion",
   "metadata": {},
   "outputs": [],
   "source": [
    "for article in soup.find_all('div',class_='article'):\n",
    "    headline=article.h2.a.text\n",
    "    print(headline)\n",
    "    summary= article.p.text\n",
    "    print(summary)\n"
   ]
  },
  {
   "cell_type": "code",
   "execution_count": null,
   "id": "exciting-warrior",
   "metadata": {},
   "outputs": [],
   "source": [
    "source=requests.get('http://coreyms.com').text"
   ]
  },
  {
   "cell_type": "code",
   "execution_count": null,
   "id": "sudden-transfer",
   "metadata": {},
   "outputs": [],
   "source": [
    "soup=BeautifulSoup(source,'lxml')\n",
    "print(soup.prettify())"
   ]
  },
  {
   "cell_type": "code",
   "execution_count": null,
   "id": "greenhouse-landing",
   "metadata": {},
   "outputs": [],
   "source": [
    "for i,article in enumerate(soup.find_all('div',class_='article')):\n",
    "    headline=article.h2.a.text\n",
    "    print(i)\n",
    "\n",
    "    if headline == 'Python Tutorial: re Module - How to Write and Match Regular Expressions(Regex)':\n",
    "    break\n",
    "\n",
    "  "
   ]
  },
  {
   "cell_type": "code",
   "execution_count": null,
   "id": "tested-circus",
   "metadata": {},
   "outputs": [],
   "source": [
    "print(article)"
   ]
  },
  {
   "cell_type": "code",
   "execution_count": null,
   "id": "relevant-sustainability",
   "metadata": {},
   "outputs": [],
   "source": []
  },
  {
   "cell_type": "code",
   "execution_count": null,
   "id": "related-roulette",
   "metadata": {},
   "outputs": [],
   "source": [
    "headline=article.h2.a.text\n",
    "print(headline)"
   ]
  },
  {
   "cell_type": "code",
   "execution_count": null,
   "id": "cutting-pepper",
   "metadata": {},
   "outputs": [],
   "source": [
    "summary=article.find('div',class_='entry-content').p.text\n",
    "print(summary)"
   ]
  },
  {
   "cell_type": "code",
   "execution_count": null,
   "id": "corrected-surgery",
   "metadata": {},
   "outputs": [],
   "source": [
    "vid_src=article.find('iframe',class='youtube-player')\n",
    "print(vid_src)"
   ]
  },
  {
   "cell_type": "code",
   "execution_count": null,
   "id": "intensive-fiber",
   "metadata": {},
   "outputs": [],
   "source": []
  },
  {
   "cell_type": "code",
   "execution_count": null,
   "id": "freelance-fever",
   "metadata": {},
   "outputs": [],
   "source": []
  },
  {
   "cell_type": "code",
   "execution_count": null,
   "id": "received-interpretation",
   "metadata": {},
   "outputs": [],
   "source": []
  },
  {
   "cell_type": "code",
   "execution_count": null,
   "id": "careful-character",
   "metadata": {},
   "outputs": [],
   "source": []
  },
  {
   "cell_type": "code",
   "execution_count": null,
   "id": "monetary-absolute",
   "metadata": {},
   "outputs": [],
   "source": []
  }
 ],
 "metadata": {
  "kernelspec": {
   "display_name": "Python 3",
   "language": "python",
   "name": "python3"
  },
  "language_info": {
   "codemirror_mode": {
    "name": "ipython",
    "version": 3
   },
   "file_extension": ".py",
   "mimetype": "text/x-python",
   "name": "python",
   "nbconvert_exporter": "python",
   "pygments_lexer": "ipython3",
   "version": "3.8.5"
  }
 },
 "nbformat": 4,
 "nbformat_minor": 5
}
